{
 "cells": [
  {
   "cell_type": "markdown",
   "metadata": {},
   "source": [
    "# 0.1: Confirming `docker` and `kaldi` functionality"
   ]
  },
  {
   "cell_type": "markdown",
   "metadata": {},
   "source": [
    "`docker image`에는 앞으로 빈번하게 사용될 `전역 변수 (global variables)`가 설정되어 있습니다. 제대로 설정되어 있는지 `echo` 명령어를 사용하여 확인해보겠습니다. "
   ]
  },
  {
   "cell_type": "code",
   "execution_count": null,
   "metadata": {},
   "outputs": [],
   "source": [
    "echo $KALDI_PATH && echo $KALDI_INSTRUCTIONAL_PATH"
   ]
  },
  {
   "cell_type": "markdown",
   "metadata": {},
   "source": [
    "## `mini_librispeech` `run.sh`"
   ]
  },
  {
   "cell_type": "markdown",
   "metadata": {},
   "source": [
    "`kaldi`가 제대로 설치되었다면 다음의 `run.sh` 파일(`egs` 폴더 내부에 `mini_librispeech` 폴더에 있습니다)을 이용해서 `training`과 `testing` pipeline의 **데모** 버전을 실행해볼 수 있습니다. `run.sh` 파일은 `librispeech` 데이터에서 아주 작은 일부를 가지고 `kaldi`가 제대로 컴파일 되었는지를 확인합니다. 데이터가 크지는 않지만, `run.sh` 파일의 실행이 완료되는데 시간이 조금 걸릴 수 있습니다. "
   ]
  },
  {
   "cell_type": "code",
   "execution_count": null,
   "metadata": {},
   "outputs": [],
   "source": [
    "cd ../mini_librispeech/s5 && pwd"
   ]
  },
  {
   "cell_type": "markdown",
   "metadata": {},
   "source": [
    "`run.sh` 파일의 논항 구조를 확인해볼 수 있으며, 기본값들은 다음과 같습니다. "
   ]
  },
  {
   "cell_type": "code",
   "execution_count": null,
   "metadata": {},
   "outputs": [],
   "source": [
    "head run.sh"
   ]
  },
  {
   "cell_type": "markdown",
   "metadata": {},
   "source": [
    "각각의 `stage` 에서 다루는 내용은 다음과 같습니다. process 중간부터 시작할 경우, `-s` flag를 이용하여 해당하는 `stage`부터 `run.sh` 파일을 실행할 수 있습니다. \n",
    "\n",
    " - stage 0: downloading data\n",
    " - stage 1: preparing `data` directories\n",
    " - stage 2: feature extraction\n",
    " - stage 3: acoustic model - monophones\n",
    " - stage 4: acoustic model - triphones\n",
    " - stage 5: acoustic model - triphones + LDA\n",
    " - stage 6: acoustic model - triphones + LDA + SAT\n",
    " - stage 7: `word error rate` reporting"
   ]
  },
  {
   "cell_type": "markdown",
   "metadata": {},
   "source": [
    "아래의 명령어를 수정하여서 원하는 `stage`부터 스크립트를 실행할 수도 있고 (*e.g.,* `-s 4`), 스크립트를 실행하는데 사용할 `threads` 수를 늘릴 수도 있습니다. (*e.g.,* `-n 4`)\n",
    "\n",
    "**Note:** 기본값인 `-n 1`을 사용할 경우, `run.sh` 파일 실행을 완료하는데 최대 `1-2시간` 정도 소요될 수도 있습니다. \n",
    "\n",
    "실행이 완료되면 `word error rate (WER)` (i.e., 원래 문장에서 몇 개의 단어가 잘못 인식되었는지) 이 출력됩니다. \n",
    "\n",
    "**스포일러:** 결과는 생각만큼 좋지 않습니다. "
   ]
  },
  {
   "cell_type": "code",
   "execution_count": null,
   "metadata": {},
   "outputs": [],
   "source": [
    "./run.sh -n 3"
   ]
  },
  {
   "cell_type": "markdown",
   "metadata": {},
   "source": [
    "다음 `jupyter notebook`부터 `kaldi`에서 사용하는 파일들을 자세하게 살펴보고, 내부 디렉토리가 어떻게 구성되었는지도 살펴볼 것입니다. 하지만 지금 미리 한 번 훑어보고 싶으시다면, `mini_librespeech/s5`에 새로 생성된 다음 세 개의 디렉토리를 확인하시면 됩니다. \n",
    "\n",
    " - `data`: 오디오 파일과 언어 모델 (language model)이 저장되는 장소입니다. \n",
    " - `mfcc`: 오디오에서 추출된 특성들이 저장되는 장소입니다.\n",
    " - `exp`: `exp`eriment의 약자로, 각각의 음향 모델에 해당하는 파일들이 저장되는 장소입니다."
   ]
  }
 ],
 "metadata": {
  "kernelspec": {
   "display_name": "Bash",
   "language": "bash",
   "name": "bash"
  },
  "language_info": {
   "codemirror_mode": "shell",
   "file_extension": ".sh",
   "mimetype": "text/x-sh",
   "name": "bash"
  }
 },
 "nbformat": 4,
 "nbformat_minor": 1
}

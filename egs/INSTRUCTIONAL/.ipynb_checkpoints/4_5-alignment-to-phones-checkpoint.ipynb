{
 "cells": [
  {
   "cell_type": "code",
   "execution_count": 5,
   "metadata": {},
   "outputs": [
    {
     "name": "stderr",
     "output_type": "stream",
     "text": [
      "ali-to-phones --ctm-output exp/triphones_lda/final.mdl 'ark:gunzip -c exp/triphones_lda/ali.1.gz|' - \n",
      "LOG (ali-to-phones[5.2.380~1-8e7d2]:main():ali-to-phones.cc:134) Done 676 utterances.\n",
      "ali-to-phones --ctm-output exp/triphones_lda/final.mdl 'ark:gunzip -c exp/triphones_lda/ali.2.gz|' - \n",
      "LOG (ali-to-phones[5.2.380~1-8e7d2]:main():ali-to-phones.cc:134) Done 676 utterances.\n",
      "ali-to-phones --ctm-output exp/triphones_lda/final.mdl 'ark:gunzip -c exp/triphones_lda/ali.3.gz|' - \n",
      "LOG (ali-to-phones[5.2.380~1-8e7d2]:main():ali-to-phones.cc:134) Done 676 utterances.\n",
      "ali-to-phones --ctm-output exp/triphones_lda/final.mdl 'ark:gunzip -c exp/triphones_lda/ali.4.gz|' - \n",
      "LOG (ali-to-phones[5.2.380~1-8e7d2]:main():ali-to-phones.cc:134) Done 675 utterances.\n"
     ]
    }
   ],
   "source": [
    "%%bash\n",
    ". ./path.sh\n",
    "for i in exp/triphones_lda/ali.*.gz; do\n",
    "    ali-to-phones --ctm-output exp/triphones_lda/final.mdl ark:\"gunzip -c $i|\" -> ${i%.gz}.ctm;\n",
    "done;\n"
   ]
  },
  {
   "cell_type": "code",
   "execution_count": 6,
   "metadata": {},
   "outputs": [
    {
     "name": "stdout",
     "output_type": "stream",
     "text": [
      "1272-128104-0000 1 0.000 0.520 1\n",
      "1272-128104-0000 1 0.520 0.070 178\n",
      "1272-128104-0000 1 0.590 0.040 148\n",
      "1272-128104-0000 1 0.630 0.040 224\n",
      "1272-128104-0000 1 0.670 0.060 232\n",
      "1272-128104-0000 1 0.730 0.050 107\n",
      "1272-128104-0000 1 0.780 0.120 170\n",
      "1272-128104-0000 1 0.900 0.050 268\n",
      "1272-128104-0000 1 0.950 0.030 148\n",
      "1272-128104-0000 1 0.980 0.060 176\n"
     ]
    }
   ],
   "source": [
    "%%bash\n",
    "head exp/triphones_lda/ali.1.ctm"
   ]
  },
  {
   "cell_type": "code",
   "execution_count": 9,
   "metadata": {},
   "outputs": [
    {
     "name": "stdout",
     "output_type": "stream",
     "text": [
      "1272-128104-0000 1 0.000 0.520 1\n",
      "1272-128104-0000 1 0.520 0.070 178\n",
      "1272-128104-0000 1 0.590 0.040 148\n",
      "1272-128104-0000 1 0.630 0.040 224\n",
      "1272-128104-0000 1 0.670 0.060 232\n",
      "1272-128104-0000 1 0.730 0.050 107\n",
      "1272-128104-0000 1 0.780 0.120 170\n",
      "1272-128104-0000 1 0.900 0.050 268\n",
      "1272-128104-0000 1 0.950 0.030 148\n",
      "1272-128104-0000 1 0.980 0.060 176\n",
      "8842-304647-0013 1 7.780 0.040 87\n",
      "8842-304647-0013 1 7.820 0.030 30\n",
      "8842-304647-0013 1 7.850 0.090 263\n",
      "8842-304647-0013 1 7.940 0.050 174\n",
      "8842-304647-0013 1 7.990 0.050 148\n",
      "8842-304647-0013 1 8.040 0.070 80\n",
      "8842-304647-0013 1 8.110 0.040 108\n",
      "8842-304647-0013 1 8.150 0.050 232\n",
      "8842-304647-0013 1 8.200 0.210 155\n",
      "8842-304647-0013 1 8.410 0.450 1\n"
     ]
    }
   ],
   "source": [
    "%%bash\n",
    "cd exp/triphones_lda\n",
    "cat *.ctm > merged_alignment.txt\n",
    "head merged_alignment.txt\n",
    "tail merged_alignment.txt"
   ]
  },
  {
   "cell_type": "code",
   "execution_count": 13,
   "metadata": {},
   "outputs": [
    {
     "name": "stdout",
     "output_type": "stream",
     "text": [
      "SIL\n"
     ]
    }
   ],
   "source": [
    "idx2phn = {}\n",
    "with open(\"/scratch/kaldi/egs/INSTRUCTIONAL/data/lang/phones.txt\", \"r\") as f:\n",
    "    data = f.readlines()\n",
    "    for line in data:\n",
    "        line = line.strip()\n",
    "        phone, idx = line.split()\n",
    "        idx2phn[idx] = phone\n",
    "    f.close\n",
    "print(idx2phn[\"1\"])"
   ]
  },
  {
   "cell_type": "code",
   "execution_count": 82,
   "metadata": {
    "collapsed": true
   },
   "outputs": [],
   "source": [
    "fout = open(\"/scratch/kaldi/egs/INSTRUCTIONAL/exp/triphones_lda/final_ali.txt\", \"w\")\n",
    "with open(\"/scratch/kaldi/egs/INSTRUCTIONAL/exp/triphones_lda/merged_alignment.txt\", \"r\") as fin:\n",
    "    data = fin.readlines()\n",
    "    for line in data:\n",
    "        line = line.strip()\n",
    "        file_name, utt, start, end, idx = line.split()\n",
    "        end = float(start) + float(end)\n",
    "        line = file_name + \" \" + utt + \" \" + start + \" \" + str(end) + \" \" + idx\n",
    "        phone = idx2phn[idx]\n",
    "        result = line + \" \" + phone + \"\\n\"\n",
    "        fout.write(result)\n",
    "    fin.close()\n",
    "fout.close()"
   ]
  },
  {
   "cell_type": "code",
   "execution_count": 83,
   "metadata": {},
   "outputs": [
    {
     "name": "stdout",
     "output_type": "stream",
     "text": [
      "1272-128104-0000 1 0.000 0.52 1 SIL\n",
      "1272-128104-0000 1 0.520 0.59 178 M_B\n",
      "1272-128104-0000 1 0.590 0.63 148 IH1_I\n",
      "1272-128104-0000 1 0.630 0.67 224 S_I\n",
      "1272-128104-0000 1 0.670 0.73 232 T_I\n",
      "1272-128104-0000 1 0.730 0.78 107 ER0_E\n",
      "1272-128104-0000 1 0.780 0.9 170 K_B\n",
      "1272-128104-0000 1 0.900 0.95 268 W_I\n",
      "1272-128104-0000 1 0.950 0.98 148 IH1_I\n",
      "1272-128104-0000 1 0.980 1.04 176 L_I\n"
     ]
    }
   ],
   "source": [
    "%%bash\n",
    "head exp/triphones_lda/final_ali.txt"
   ]
  },
  {
   "cell_type": "code",
   "execution_count": 97,
   "metadata": {},
   "outputs": [
    {
     "name": "stderr",
     "output_type": "stream",
     "text": [
      "mkdir: cannot create directory '/scratch/kaldi/egs/INSTRUCTIONAL/exp/triphones_lda/align_phones': File exists\n",
      "mkdir: cannot create directory '/scratch/kaldi/egs/INSTRUCTIONAL/exp/triphones_lda/align_prons': File exists\n",
      "mkdir: cannot create directory '/scratch/kaldi/egs/INSTRUCTIONAL/exp/triphones_lda/align_words': File exists\n",
      "mkdir: cannot create directory '/scratch/kaldi/egs/INSTRUCTIONAL/exp/triphones_lda/align_transcripts': File exists\n"
     ]
    }
   ],
   "source": [
    "%%bash\n",
    "mkdir ${KALDI_INSTRUCTIONAL_PATH}/exp/triphones_lda/align_phones\n",
    "mkdir ${KALDI_INSTRUCTIONAL_PATH}/exp/triphones_lda/align_prons\n",
    "mkdir ${KALDI_INSTRUCTIONAL_PATH}/exp/triphones_lda/align_words\n",
    "mkdir ${KALDI_INSTRUCTIONAL_PATH}/exp/triphones_lda/align_transcripts\n",
    "mkdir ${KALDI_INSTRUCTIONAL_PATH}/exp/triphones_lda/textgrid"
   ]
  },
  {
   "cell_type": "code",
   "execution_count": 54,
   "metadata": {
    "collapsed": true
   },
   "outputs": [],
   "source": [
    "import sys, csv, re,glob, os"
   ]
  },
  {
   "cell_type": "code",
   "execution_count": 84,
   "metadata": {
    "collapsed": true
   },
   "outputs": [],
   "source": [
    "with open(\"/scratch/kaldi/egs/INSTRUCTIONAL/exp/triphones_lda/final_ali.txt\", \"r\") as fin:\n",
    "    data = fin.readlines()\n",
    "    file_name = data[0].strip().split()[0]\n",
    "    results = []\n",
    "    for line in data:\n",
    "        name = file_name\n",
    "        line = line.strip()\n",
    "        file_name, utt, start, end, idx, phn = line.split()\n",
    "        if (file_name != name):\n",
    "            try:\n",
    "                with open(\"exp/triphones_lda/align_phones/\" + (name)+\".txt\",'w') as fwrite:\n",
    "                    writer = csv.writer(fwrite)\n",
    "                    fwrite.write(\"\\n\".join(results))\n",
    "                    fwrite.close()\n",
    "                #print name\n",
    "            except Exception, e:\n",
    "                print \"Failed to write file\",e\n",
    "                sys.exit(2)\n",
    "            del results[:]\n",
    "            results.append(line)\n",
    "        else:\n",
    "            results.append(line)\n",
    "\n",
    "try:\n",
    "    with open(\"exp/triphones_lda/align_phones/\" + (name)+\".txt\",'w') as fwrite:\n",
    "        writer = csv.writer(fwrite)\n",
    "        fwrite.write(\"\\n\".join(results))\n",
    "        fwrite.close()\n",
    "                #print name\n",
    "except Exception, e:\n",
    "    print \"Failed to write file\",e\n",
    "    sys.exit(2)"
   ]
  },
  {
   "cell_type": "code",
   "execution_count": 85,
   "metadata": {},
   "outputs": [
    {
     "name": "stdout",
     "output_type": "stream",
     "text": [
      "1272-128104-0000.txt\n",
      "1272-128104-0001.txt\n",
      "1272-128104-0002.txt\n",
      "1272-128104-0003.txt\n",
      "1272-128104-0004.txt\n",
      "1272-128104-0005.txt\n",
      "1272-128104-0006.txt\n",
      "1272-128104-0007.txt\n",
      "1272-128104-0008.txt\n",
      "1272-128104-0009.txt\n"
     ]
    },
    {
     "name": "stderr",
     "output_type": "stream",
     "text": [
      "ls: write error: Broken pipe\n"
     ]
    }
   ],
   "source": [
    "%%bash\n",
    "ls ${KALDI_INSTRUCTIONAL_PATH}/exp/triphones_lda/align_phones | head"
   ]
  },
  {
   "cell_type": "code",
   "execution_count": 98,
   "metadata": {},
   "outputs": [
    {
     "name": "stdout",
     "output_type": "stream",
     "text": [
      "1272-128104-0000 1 0.000 0.52 1 SIL\n",
      "1272-128104-0000 1 0.520 0.59 178 M_B\n",
      "1272-128104-0000 1 0.590 0.63 148 IH1_I\n",
      "1272-128104-0000 1 0.630 0.67 224 S_I\n",
      "1272-128104-0000 1 0.670 0.73 232 T_I\n",
      "1272-128104-0000 1 0.730 0.78 107 ER0_E\n",
      "1272-128104-0000 1 0.780 0.9 170 K_B\n",
      "1272-128104-0000 1 0.900 0.95 268 W_I\n",
      "1272-128104-0000 1 0.950 0.98 148 IH1_I\n",
      "1272-128104-0000 1 0.980 1.04 176 L_I\n",
      "1272-128104-0000 1 1.040 1.09 232 T_I\n",
      "1272-128104-0000 1 1.090 1.25 107 ER0_E\n",
      "1272-128104-0000 1 1.250 1.32 146 IH1_B\n",
      "1272-128104-0000 1 1.320 1.41 275 Z_E\n",
      "1272-128104-0000 1 1.410 1.46 90 DH_B\n",
      "1272-128104-0000 1 1.460 1.53 155 IY0_E\n",
      "1272-128104-0000 1 1.530 1.58 30 AH0_B\n",
      "1272-128104-0000 1 1.580 1.74 216 P_I\n",
      "1272-128104-0000 1 1.740 1.82 12 AA1_I\n",
      "1272-128104-0000 1 1.820 1.93 224 S_I\n",
      "1272-128104-0000 1 1.930 2.0 32 AH0_I\n",
      "1272-128104-0000 1 2.000 2.15 175 L_E\n",
      "1272-128104-0000 1 2.150 2.2 30 AH0_B\n",
      "1272-128104-0000 1 2.200 2.24 263 V_E\n",
      "1272-128104-0000 1 2.240 2.27 1 SIL\n",
      "1272-128104-0000 1 2.270 2.31 90 DH_B\n",
      "1272-128104-0000 1 2.310 2.34 31 AH0_E\n",
      "1272-128104-0000 1 2.340 2.42 178 M_B\n",
      "1272-128104-0000 1 2.420 2.45 148 IH1_I\n",
      "1272-128104-0000 1 2.450 2.48 88 D_I\n",
      "1272-128104-0000 1 2.480 2.54 32 AH0_I\n",
      "1272-128104-0000 1 2.540 2.6 175 L_E\n",
      "1272-128104-0000 1 2.600 2.71 170 K_B\n",
      "1272-128104-0000 1 2.710 2.8 176 L_I\n",
      "1272-128104-0000 1 2.800 2.88 24 AE1_I\n",
      "1272-128104-0000 1 2.880 2.99 224 S_I\n",
      "1272-128104-0000 1 2.990 3.07 32 AH0_I\n",
      "1272-128104-0000 1 3.070 3.27 275 Z_E\n",
      "1272-128104-0000 1 3.270 3.3 1 SIL\n",
      "1272-128104-0000 1 3.300 3.36 30 AH0_B\n",
      "1272-128104-0000 1 3.360 3.39 184 N_I\n",
      "1272-128104-0000 1 3.390 3.44 87 D_E\n",
      "1272-128104-0000 1 3.440 3.55 266 W_B\n",
      "1272-128104-0000 1 3.550 3.59 159 IY1_E\n",
      "1272-128104-0000 1 3.590 3.66 109 ER0_S\n",
      "1272-128104-0000 1 3.660 3.74 134 G_B\n",
      "1272-128104-0000 1 3.740 3.84 176 L_I\n",
      "1272-128104-0000 1 3.840 3.98 24 AE1_I\n",
      "1272-128104-0000 1 3.980 4.05 87 D_E\n",
      "1272-128104-0000 1 4.050 4.11 230 T_B\n",
      "1272-128104-0000 1 4.110 4.2 255 UW1_E\n",
      "1272-128104-0000 1 4.200 4.27 266 W_B\n",
      "1272-128104-0000 1 4.270 4.3 100 EH1_I\n",
      "1272-128104-0000 1 4.300 4.39 176 L_I\n",
      "1272-128104-0000 1 4.390 4.45 172 K_I\n",
      "1272-128104-0000 1 4.450 4.5 32 AH0_I\n",
      "1272-128104-0000 1 4.500 4.59 179 M_E\n",
      "1272-128104-0000 1 4.590 4.7 138 HH_B\n",
      "1272-128104-0000 1 4.700 4.75 148 IH1_I\n",
      "1272-128104-0000 1 4.750 4.85 275 Z_E\n",
      "1272-128104-0000 1 4.850 4.94 134 G_B\n",
      "1272-128104-0000 1 4.940 5.04 12 AA1_I\n",
      "1272-128104-0000 1 5.040 5.16 224 S_I\n",
      "1272-128104-0000 1 5.160 5.21 216 P_I\n",
      "1272-128104-0000 1 5.210 5.26 32 AH0_I\n",
      "1272-128104-0000 1 5.260 5.42 175 L_E\n",
      "1272-128104-0000 1 5.420 5.84 1 SIL"
     ]
    }
   ],
   "source": [
    "%%bash\n",
    "cat ${KALDI_INSTRUCTIONAL_PATH}/exp/triphones_lda/align_phones/1272-128104-0000.txt"
   ]
  },
  {
   "cell_type": "code",
   "execution_count": 86,
   "metadata": {
    "collapsed": true
   },
   "outputs": [],
   "source": [
    "path = \"/scratch/kaldi/egs/INSTRUCTIONAL/exp/triphones_lda/align_phones\"\n",
    "pron=[]\n",
    "files = os.listdir(path)\n",
    "for fname in files:\n",
    "    file_name = path + \"/\" + fname\n",
    "    f = open(file_name, \"r\")\n",
    "    data = f.readlines()\n",
    "    fout = open(\"/scratch/kaldi/egs/INSTRUCTIONAL/exp/triphones_lda/align_prons/\" + fname, \"w\")\n",
    "    wstart = 0\n",
    "    wend = 0\n",
    "    for line in data:\n",
    "        line = line.strip()\n",
    "        name, utt, start, end, idx, phone = line.split()\n",
    "        if (phone == \"SIL\"):\n",
    "            phone = \"SIL_S\"\n",
    "        phn, pos = phone.split(\"_\")\n",
    "        if pos == \"B\":\n",
    "            w_start = start\n",
    "            pron.append(phn)\n",
    "        if pos == \"S\":\n",
    "            w_start=start\n",
    "            w_end=end\n",
    "            pron.append(phn)\n",
    "            fout.write(name + \"\\t\" + \" \".join(pron) +\"\\t\"+ str(w_start) + \"\\t\" + str(w_end) + \"\\n\")\n",
    "            pron=[]\n",
    "        if pos == \"E\":\n",
    "            w_end=end\n",
    "            pron.append(phn)\n",
    "            fout.write(name + \"\\t\" + \" \".join(pron) +\"\\t\"+ str(w_start) + \"\\t\" + str(w_end) + \"\\n\")\n",
    "            pron=[]\n",
    "        if pos == \"I\":\n",
    "            pron.append(phn)\n",
    "    fout.close()\n",
    "    f.close()"
   ]
  },
  {
   "cell_type": "code",
   "execution_count": 63,
   "metadata": {},
   "outputs": [
    {
     "name": "stdout",
     "output_type": "stream",
     "text": [
      "1272-128104-0000.txt\n",
      "1272-128104-0001.txt\n",
      "1272-128104-0002.txt\n",
      "1272-128104-0003.txt\n",
      "1272-128104-0004.txt\n",
      "1272-128104-0005.txt\n",
      "1272-128104-0006.txt\n",
      "1272-128104-0007.txt\n",
      "1272-128104-0008.txt\n",
      "1272-128104-0009.txt\n"
     ]
    },
    {
     "name": "stderr",
     "output_type": "stream",
     "text": [
      "ls: write error: Broken pipe\n"
     ]
    }
   ],
   "source": [
    "%%bash\n",
    "ls exp/triphones_lda/align_prons/ | head"
   ]
  },
  {
   "cell_type": "code",
   "execution_count": 87,
   "metadata": {},
   "outputs": [
    {
     "name": "stdout",
     "output_type": "stream",
     "text": [
      "1272-128104-0000\tSIL\t0.000\t0.52\n",
      "1272-128104-0000\tM IH1 S T ER0\t0.520\t0.78\n",
      "1272-128104-0000\tK W IH1 L T ER0\t0.780\t1.25\n",
      "1272-128104-0000\tIH1 Z\t1.250\t1.41\n",
      "1272-128104-0000\tDH IY0\t1.410\t1.53\n",
      "1272-128104-0000\tAH0 P AA1 S AH0 L\t1.530\t2.15\n",
      "1272-128104-0000\tAH0 V\t2.150\t2.24\n",
      "1272-128104-0000\tSIL\t2.240\t2.27\n",
      "1272-128104-0000\tDH AH0\t2.270\t2.34\n",
      "1272-128104-0000\tM IH1 D AH0 L\t2.340\t2.6\n",
      "1272-128104-0000\tSIL\t3.270\t3.3\n",
      "1272-128104-0000\tAH0 N D\t3.300\t3.44\n",
      "1272-128104-0000\tW IY1\t3.440\t3.59\n",
      "1272-128104-0000\tER0\t3.590\t3.66\n",
      "1272-128104-0000\tG L AE1 D\t3.660\t4.05\n",
      "1272-128104-0000\tT UW1\t4.050\t4.2\n",
      "1272-128104-0000\tW EH1 L K AH0 M\t4.200\t4.59\n",
      "1272-128104-0000\tHH IH1 Z\t4.590\t4.85\n",
      "1272-128104-0000\tG AA1 S P AH0 L\t4.850\t5.42\n",
      "1272-128104-0000\tSIL\t5.420\t5.84\n"
     ]
    }
   ],
   "source": [
    "%%bash\n",
    "head exp/triphones_lda/align_prons/1272-128104-0000.txt\n",
    "tail exp/triphones_lda/align_prons/1272-128104-0000.txt"
   ]
  },
  {
   "cell_type": "code",
   "execution_count": 71,
   "metadata": {
    "collapsed": true
   },
   "outputs": [],
   "source": [
    "with open(\"raw_data/librispeech-transcripts.txt\", \"r\") as f:\n",
    "    data = f.readlines()\n",
    "    for line in data:\n",
    "        line = line.strip()\n",
    "        info = line.split()\n",
    "        fname = info[0]\n",
    "        file_name = \"exp/triphones_lda/align_transcripts/\" + fname + \".txt\"\n",
    "        \n",
    "        fout = open(file_name, \"w\")\n",
    "        for item in info[1:]:\n",
    "            result = fname + \" \" + item + \"\\n\"\n",
    "            fout.write(result)\n",
    "        fout.close()\n",
    "    f.close()"
   ]
  },
  {
   "cell_type": "code",
   "execution_count": 73,
   "metadata": {},
   "outputs": [
    {
     "name": "stdout",
     "output_type": "stream",
     "text": [
      "1272-128104-0000.txt\n"
     ]
    }
   ],
   "source": [
    "%%bash \n",
    "ls exp/triphones_lda/align_transcripts | grep \"1272-128104-0000\""
   ]
  },
  {
   "cell_type": "code",
   "execution_count": 74,
   "metadata": {},
   "outputs": [
    {
     "name": "stdout",
     "output_type": "stream",
     "text": [
      "1272-128104-0000 MISTER\n",
      "1272-128104-0000 QUILTER\n",
      "1272-128104-0000 IS\n",
      "1272-128104-0000 THE\n",
      "1272-128104-0000 APOSTLE\n",
      "1272-128104-0000 OF\n",
      "1272-128104-0000 THE\n",
      "1272-128104-0000 MIDDLE\n",
      "1272-128104-0000 CLASSES\n",
      "1272-128104-0000 AND\n"
     ]
    }
   ],
   "source": [
    "%%bash\n",
    "head exp/triphones_lda/align_transcripts/1272-128104-0000.txt"
   ]
  },
  {
   "cell_type": "code",
   "execution_count": 35,
   "metadata": {},
   "outputs": [
    {
     "name": "stdout",
     "output_type": "stream",
     "text": [
      "[\"A''S\", \"A'S\", 'AISE', 'AYS', 'EYS']\n"
     ]
    }
   ],
   "source": [
    "pron2word = {}\n",
    "with open(\"/scratch/kaldi/egs/INSTRUCTIONAL/data/local/dict/lexicon.txt\", \"r\") as f:\n",
    "    data = f.readlines()\n",
    "    for line in data:\n",
    "        line = line.strip()\n",
    "        info = line.split()\n",
    "        word = info[0]\n",
    "        pron = \" \".join(info[1:])\n",
    "        try:\n",
    "            pron2word[pron].append(word)\n",
    "        except:\n",
    "            pron2word[pron] = []\n",
    "            pron2word[pron].append(word)\n",
    "    f.close\n",
    "print(pron2word[\"EY1 Z\"])"
   ]
  },
  {
   "cell_type": "code",
   "execution_count": 90,
   "metadata": {
    "collapsed": true
   },
   "outputs": [],
   "source": [
    "pron_path = \"/scratch/kaldi/egs/INSTRUCTIONAL/exp/triphones_lda/align_prons\"\n",
    "tran_path = \"/scratch/kaldi/egs/INSTRUCTIONAL/exp/triphones_lda/align_transcripts\"\n",
    "\n",
    "pron_files = os.listdir(pron_path)\n",
    "tran_files = os.listdir(tran_path)\n",
    "for fname in pron_files:\n",
    "    pron_name = pron_path + \"/\" + fname\n",
    "    tran_name = tran_path + \"/\" + fname\n",
    "    word_name = \"/scratch/kaldi/egs/INSTRUCTIONAL/exp/triphones_lda/align_words/\" + fname\n",
    "    f_pron = open(pron_name, \"r\")\n",
    "    f_tran = open(tran_name, \"r\")\n",
    "    pron_data = f_pron.readlines()\n",
    "    tran_data = f_tran.readlines()\n",
    "    \n",
    "    fout = open(word_name, \"w\")\n",
    "    \n",
    "    idx = 0\n",
    "    for line in pron_data:\n",
    "        line = line.strip()\n",
    "        name, pron, start, end = line.split(\"\\t\")\n",
    "        if (pron == \"SIL\"):\n",
    "            result = line + \"\\n\"\n",
    "            fout.write(result)\n",
    "        else:\n",
    "            candidates = pron2word[pron]\n",
    "            info = tran_data[idx]\n",
    "            t_name, t_word = info.split()\n",
    "            if (t_word in candidates):\n",
    "                result = name + \"\\t\" + t_word + \"\\t\" + start + \"\\t\" + end + \"\\n\"\n",
    "                fout.write(result)\n",
    "                idx += 1\n",
    "            else:\n",
    "                result = name + \"\\t<UNK>\\t\" + start + \"\\t\" + end + \"\\n\"\n",
    "                fout.write(result)\n",
    "                idx += 1\n",
    "    f_pron.close()\n",
    "    f_tran.close()\n",
    "    fout.close()                "
   ]
  },
  {
   "cell_type": "code",
   "execution_count": 95,
   "metadata": {},
   "outputs": [
    {
     "name": "stdout",
     "output_type": "stream",
     "text": [
      "1272-128104-0000.txt\n",
      "1272-128104-0001.txt\n",
      "1272-128104-0002.txt\n",
      "1272-128104-0003.txt\n",
      "1272-128104-0004.txt\n",
      "1272-128104-0005.txt\n",
      "1272-128104-0006.txt\n",
      "1272-128104-0007.txt\n",
      "1272-128104-0008.txt\n",
      "1272-128104-0009.txt\n"
     ]
    }
   ],
   "source": [
    "%%bash \n",
    "ls exp/triphones_lda/align_words | head"
   ]
  },
  {
   "cell_type": "code",
   "execution_count": 96,
   "metadata": {},
   "outputs": [
    {
     "name": "stdout",
     "output_type": "stream",
     "text": [
      "1272-128104-0000\tSIL\t0.000\t0.52\n",
      "1272-128104-0000\tMISTER\t0.520\t0.78\n",
      "1272-128104-0000\tQUILTER\t0.780\t1.25\n",
      "1272-128104-0000\tIS\t1.250\t1.41\n",
      "1272-128104-0000\tTHE\t1.410\t1.53\n",
      "1272-128104-0000\tAPOSTLE\t1.530\t2.15\n",
      "1272-128104-0000\tOF\t2.150\t2.24\n",
      "1272-128104-0000\tSIL\t2.240\t2.27\n",
      "1272-128104-0000\tTHE\t2.270\t2.34\n",
      "1272-128104-0000\tMIDDLE\t2.340\t2.6\n",
      "1272-128104-0000\tSIL\t3.270\t3.3\n",
      "1272-128104-0000\tAND\t3.300\t3.44\n",
      "1272-128104-0000\tWE\t3.440\t3.59\n",
      "1272-128104-0000\tARE\t3.590\t3.66\n",
      "1272-128104-0000\tGLAD\t3.660\t4.05\n",
      "1272-128104-0000\tTO\t4.050\t4.2\n",
      "1272-128104-0000\tWELCOME\t4.200\t4.59\n",
      "1272-128104-0000\tHIS\t4.590\t4.85\n",
      "1272-128104-0000\tGOSPEL\t4.850\t5.42\n",
      "1272-128104-0000\tSIL\t5.420\t5.84\n"
     ]
    }
   ],
   "source": [
    "%%bash \n",
    "head exp/triphones_lda/align_words/1272-128104-0000.txt\n",
    "tail exp/triphones_lda/align_words/1272-128104-0000.txt"
   ]
  },
  {
   "cell_type": "code",
   "execution_count": 102,
   "metadata": {
    "collapsed": true
   },
   "outputs": [],
   "source": [
    "pron_path = \"/scratch/kaldi/egs/INSTRUCTIONAL/exp/triphones_lda/align_phones\"\n",
    "word_path = \"/scratch/kaldi/egs/INSTRUCTIONAL/exp/triphones_lda/align_words\"\n",
    "\n",
    "pron_files = os.listdir(pron_path)\n",
    "tran_files = os.listdir(tran_path)\n",
    "word_files = os.listdir(word_path)\n",
    "for fname in pron_files:\n",
    "    name, ext = fname.split(\".\")\n",
    "    pron_name = pron_path + \"/\" + fname\n",
    "    word_file = word_path + \"/\" + fname\n",
    "    tg_name = \"/scratch/kaldi/egs/INSTRUCTIONAL/exp/triphones_lda/textgrid/\" + name + \".TextGrid\"\n",
    "    f_pron = open(pron_name, \"r\")\n",
    "    f_word = open(word_name, \"r\")\n",
    "    pron_data = f_pron.readlines()\n",
    "    word_data = f_word.readlines()\n",
    "    \n",
    "    f_start = word_data[0].strip().split(\"\\t\")[2]\n",
    "    f_end = word_data[-1].strip().split(\"\\t\")[3]\n",
    "    \n",
    "    fout = open(tg_name, \"w\")\n",
    "    \n",
    "    fout.write('File type = \"ooTextFile\"\\n')\n",
    "    fout.write('Object class = \"TextGrid\"\\n\\n')\n",
    "    fout.write(\"xmin = \" + str(f_start) + \"\\n\")\n",
    "    fout.write(\"xmax = \" + str(f_end) + \"\\n\")\n",
    "    fout.write(\"tiers? <exists>\\n\")\n",
    "    fout.write(\"size = 3\\n\")\n",
    "    fout.write(\"item []:\\n\")\n",
    "    \n",
    "    fout.write(\"\\titem [1]:\\n\")\n",
    "    fout.write('\\t\\tclass = \"IntervalTier\"\\n')\n",
    "    fout.write('\\t\\tname = \"phone\"\\n')\n",
    "    fout.write(\"\\t\\txmin = \" + str(f_start) + \"\\n\")\n",
    "    fout.write(\"\\t\\txmax = \" + str(f_end) + \"\\n\")\n",
    "    fout.write(\"\\t\\tintervals: size = \" + str(len(pron_data)) + \"\\n\")\n",
    "    for i in range(0, len(pron_data)):\n",
    "        fout.write(\"\\t\\tintervals [\" + str(i + 1) + \"]:\\n\")\n",
    "        info = pron_data[i].strip().split()\n",
    "        start = info[2]\n",
    "        end = info[3]\n",
    "        pron = info[5]\n",
    "        if (pron != \"SIL\"):\n",
    "            phn, pos = pron.split(\"_\")\n",
    "            pron = phn\n",
    "        fout.write(\"\\t\\t\\txmin = \" + start + \"\\n\")\n",
    "        fout.write(\"\\t\\t\\txmax = \" + end + \"\\n\")\n",
    "        fout.write('\\t\\t\\ttext = \"' + phn + '\"\\n')\n",
    "    fout.write(\"\\titem [2]:\\n\")\n",
    "    fout.write('\\t\\tclass = \"IntervalTier\"\\n')\n",
    "    fout.write('\\t\\tname = \"word\"\\n')\n",
    "    fout.write(\"\\t\\txmin = \" + str(f_start) + \"\\n\")\n",
    "    fout.write(\"\\t\\txmax = \" + str(f_end) + \"\\n\")\n",
    "    fout.write(\"\\t\\tintervals: size = \" + str(len(word_data)) + \"\\n\")\n",
    "    words = []\n",
    "    for i in range(0, len(word_data)):\n",
    "        fout.write(\"\\t\\tintervals [\" + str(i + 1) + \"]:\\n\")\n",
    "        info = word_data[i].strip().split()\n",
    "        start = info[2]\n",
    "        end = info[3]\n",
    "        word = info[1]\n",
    "        words.append(word) if word != \"SIL\"\n",
    "        fout.write(\"\\t\\t\\txmin = \" + start + \"\\n\")\n",
    "        fout.write(\"\\t\\t\\txmax = \" + end + \"\\n\")\n",
    "        fout.write('\\t\\t\\ttext = \"' + word + '\"\\n')\n",
    "    fout.write(\"\\titem [3]:\\n\")\n",
    "    fout.write('\\t\\tclass = \"IntervalTier\"\\n')\n",
    "    fout.write('\\t\\tname = \"sent\"\\n')\n",
    "    fout.write(\"\\t\\txmin = \" + str(f_start) + \"\\n\")\n",
    "    fout.write(\"\\t\\txmax = \" + str(f_end) + \"\\n\")\n",
    "    fout.write(\"\\t\\tintervals: size = 1\\n\")\n",
    "    fout.write(\"\\t\\tintervals [1]:\\n\")\n",
    "    info = word_data[i].strip().split()\n",
    "    start = info[2]\n",
    "    end = info[3]\n",
    "    sent = \" \".join(words)\n",
    "    fout.write(\"\\t\\t\\txmin = \" + str(f_start) + \"\\n\")\n",
    "    fout.write(\"\\t\\t\\txmax = \" + str(f_end) + \"\\n\")\n",
    "    fout.write('\\t\\t\\ttext = \"' + sent + '\"\\n')\n",
    "    f_pron.close()\n",
    "    f_word.close()\n",
    "    fout.close()                "
   ]
  }
 ],
 "metadata": {
  "kernelspec": {
   "display_name": "Python 3",
   "language": "python",
   "name": "python3"
  },
  "language_info": {
   "codemirror_mode": {
    "name": "ipython",
    "version": 3
   },
   "file_extension": ".py",
   "mimetype": "text/x-python",
   "name": "python",
   "nbconvert_exporter": "python",
   "pygments_lexer": "ipython3",
   "version": "3.6.3"
  }
 },
 "nbformat": 4,
 "nbformat_minor": 2
}

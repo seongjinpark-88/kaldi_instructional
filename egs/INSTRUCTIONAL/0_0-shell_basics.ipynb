{
 "cells": [
  {
   "cell_type": "code",
   "execution_count": null,
   "metadata": {},
   "outputs": [],
   "source": [
    "cd ${KALDI_INSTRUCTIONAL_PATH} && pwd"
   ]
  },
  {
   "cell_type": "markdown",
   "metadata": {},
   "source": [
    "# 0.0: `shell` Basics"
   ]
  },
  {
   "cell_type": "markdown",
   "metadata": {},
   "source": [
    "`kaldi`는 `C++`를 이용하여 작성되었으며, 주로 `shell`을 이용하여서 실행할 수 있습니다. `C++`를 직접 수정하는 것은 어려운 일일 수도 있지만, `shell` 스크립트를 이해하고 실행할 수 있으며 수정할 수 있게 된다면 `kaldi`를 이해하는데 더욱 도움이 될 것입니다. \n",
    "\n",
    "`shell`에 관련된 자료들은 다음에서 확인하실 수 있습니다: http://www.tldp.org/LDP/Bash-Beginners-Guide/html/index.html"
   ]
  },
  {
   "cell_type": "markdown",
   "metadata": {},
   "source": [
    "`shell` 혹은 `bash`에서 주로 사용되는 아래의 명령어들을 간단히 실행해보도록 하겠습니다. \n",
    "\n",
    "- `echo`\n",
    "- `pwd`\n",
    "- `cd`\n",
    "- `ls`\n",
    "- `mkdir`\n",
    "- `cp`\n",
    "- `mv`\n",
    "- `cat`/`more`\n",
    "- `head`/`tail`\n",
    "- `grep`\n",
    "- `|`\n",
    "- variables\n",
    "- `for` loop\n",
    "- `if`/`then`\n",
    "- `chmod`\n",
    "- `sudo`"
   ]
  },
  {
   "cell_type": "markdown",
   "metadata": {},
   "source": [
    "## `echo`: print"
   ]
  },
  {
   "cell_type": "code",
   "execution_count": null,
   "metadata": {},
   "outputs": [],
   "source": [
    "echo \"Hello world\""
   ]
  },
  {
   "cell_type": "markdown",
   "metadata": {},
   "source": [
    "## `pwd`: print name of current/working directory\n",
    "`pwd` 명령어는 현재 작업하고 있는 위치를 출력합니다. "
   ]
  },
  {
   "cell_type": "code",
   "execution_count": null,
   "metadata": {},
   "outputs": [],
   "source": [
    "pwd"
   ]
  },
  {
   "cell_type": "markdown",
   "metadata": {},
   "source": [
    "## `cd`: change directory\n",
    "\n",
    "`cd` 명령어를 이용해서 작업 위치를 변경할 수 있습니다. `cd` 이후에 아무런 위치도 지정하지 않으면, 작업 위치를 `/root`로 이동하게 됩니다. 위치를 지정했을 경우에는 해당 위치로 이동하게 됩니다. "
   ]
  },
  {
   "cell_type": "code",
   "execution_count": null,
   "metadata": {},
   "outputs": [],
   "source": [
    "cd && pwd    # && can be put between two commands to do them consecutively"
   ]
  },
  {
   "cell_type": "code",
   "execution_count": null,
   "metadata": {},
   "outputs": [],
   "source": [
    "cd /scratch/kaldi/egs/INSTRUCTIONAL && pwd"
   ]
  },
  {
   "cell_type": "markdown",
   "metadata": {},
   "source": [
    "상위 폴더로 이동하기 위해서는 `..`을 사용할 수 있습니다. 예를 들어, `cd ..`을 입력하게 되면 작업 위치를 `/home/kaldi/egs/INSTRUCTIONAL`에서 `/home/kaldi/egs`로 이동하게 됩니다. 만약 `cd ../..`를 입력했을 경우에는 작업 위치를 `/home/kaldi`로 이동하게 됩니다. \n",
    "\n",
    "`..` 뒤에 하위 폴더 명을 입력하여서 상위 폴더에 있는 다른 하위 폴더로 작업 위치를 변경할 수 있습니다. "
   ]
  },
  {
   "cell_type": "code",
   "execution_count": null,
   "metadata": {},
   "outputs": [],
   "source": [
    "cd ../mini_librispeech && pwd"
   ]
  },
  {
   "cell_type": "markdown",
   "metadata": {},
   "source": [
    "## `ls`: list directory contents\n",
    "\n",
    "`ls` 명령어는 해당 위치에 있는 모든 디렉토리 및 파일을 보여줍니다. `ls` 뒤에 아무 내용도 입력하지 않으면 현재 위치에 있는 디렉토리/파일들을 출력하고, `ls` 뒤에 위치를 지정하였을 경우에는 해당 위치에 있는 디렉토리/파일 이름을 출력합니다. "
   ]
  },
  {
   "cell_type": "code",
   "execution_count": null,
   "metadata": {},
   "outputs": [],
   "source": [
    "pwd && ls"
   ]
  },
  {
   "cell_type": "code",
   "execution_count": null,
   "metadata": {},
   "outputs": [],
   "source": [
    "ls ../mini_librispeech/s5"
   ]
  },
  {
   "cell_type": "markdown",
   "metadata": {},
   "source": [
    "`ls` 명령어 뒤에 `-lah`와 같은 3개의 `flag`를 사용할 수 있습니다. \n",
    "  - `-l` 명령어는 디렉토리/파일의 권한, 크기, 그리고 최근 수정 시간을 보여줍니다. \n",
    "  - `-a` 명령어는 숨겨져있는 폴더나 파일들을 모두 출력합니다 (`.` 으로 시작하는 파일 포함)\n",
    "  - `-h` 명령어는 파일 크기를 읽기 편한 형식으로 변경하여서 출력합니다. "
   ]
  },
  {
   "cell_type": "code",
   "execution_count": null,
   "metadata": {},
   "outputs": [],
   "source": [
    "ls -lah"
   ]
  },
  {
   "cell_type": "markdown",
   "metadata": {},
   "source": [
    "## `mkdir`: make a new directory\n",
    "\n",
    "`mkdir` 명령어는 새로운 디렉토리 (폴더)를 생성하는 명령어입니다. 폴더를 생성하고 그 내부에 새로운 폴더를 한 번에 생성하려는 경우 (`mkdir -p dir1/dir2`) `-p` flag를 사용하는 것이 에러를 방지할 수 있습니다. "
   ]
  },
  {
   "cell_type": "code",
   "execution_count": null,
   "metadata": {},
   "outputs": [],
   "source": [
    "mkdir -p empty_folder_1/empty_folder_2"
   ]
  },
  {
   "cell_type": "code",
   "execution_count": null,
   "metadata": {},
   "outputs": [],
   "source": [
    "ls empty_folder_1"
   ]
  },
  {
   "cell_type": "code",
   "execution_count": null,
   "metadata": {},
   "outputs": [],
   "source": [
    "ls empty_folder_1/empty_folder_2"
   ]
  },
  {
   "cell_type": "markdown",
   "metadata": {},
   "source": [
    "## `cp`: copy files/directories\n",
    "\n",
    "`cp` 명령어를 이용하여 파일들을 복사할 수 있으며, `-r` flag를 이용하여 폴더들도 이동할 수 있습니다. `cp` 명령어는 두 개의 논항을 취합니다. 처음 논항은 복사할 대상이며, 두 번째 논항은 복사한 대항을 붙여넣을 위치입니다. "
   ]
  },
  {
   "cell_type": "code",
   "execution_count": null,
   "metadata": {},
   "outputs": [],
   "source": [
    "cd ${KALDI_INSTRUCTIONAL_PATH} && ls"
   ]
  },
  {
   "cell_type": "code",
   "execution_count": null,
   "metadata": {},
   "outputs": [],
   "source": [
    "cp ../../README.md README_copy.txt && ls"
   ]
  },
  {
   "cell_type": "markdown",
   "metadata": {},
   "source": [
    "폴더를 복사하는 경우, `-r` flag (i.e., `recursive`)를 사용하시면 됩니다. "
   ]
  },
  {
   "cell_type": "code",
   "execution_count": null,
   "metadata": {},
   "outputs": [],
   "source": [
    "cp -r resource_files resource_files_copy && ls resource_files_copy"
   ]
  },
  {
   "cell_type": "markdown",
   "metadata": {},
   "source": [
    "## `mv`: move files/directories\n",
    "\n",
    "`mv` 는 파일이나 폴더를 새로운 위치로 이동하는 명령어입니다. 논항 구조는 `cp` 명령어와 동일합니다. "
   ]
  },
  {
   "cell_type": "code",
   "execution_count": null,
   "metadata": {},
   "outputs": [],
   "source": [
    "ls"
   ]
  },
  {
   "cell_type": "code",
   "execution_count": null,
   "metadata": {},
   "outputs": [],
   "source": [
    "mv README_copy.txt ../ && ls .."
   ]
  },
  {
   "cell_type": "markdown",
   "metadata": {},
   "source": [
    "디렉토리도 동일한 방법으로 이동할 수 있습니다. "
   ]
  },
  {
   "cell_type": "code",
   "execution_count": null,
   "metadata": {},
   "outputs": [],
   "source": [
    "ls"
   ]
  },
  {
   "cell_type": "code",
   "execution_count": null,
   "metadata": {},
   "outputs": [],
   "source": [
    "mv resource_files_copy .. && ls .."
   ]
  },
  {
   "cell_type": "markdown",
   "metadata": {},
   "source": [
    "`mv` 명령어를 이용하여 파일의 이름을 *변경할* 수도 있습니다. "
   ]
  },
  {
   "cell_type": "code",
   "execution_count": null,
   "metadata": {},
   "outputs": [],
   "source": [
    "ls .."
   ]
  },
  {
   "cell_type": "code",
   "execution_count": null,
   "metadata": {},
   "outputs": [],
   "source": [
    "mv ../README_copy.txt ../README_copy_renamed.txt && ls .."
   ]
  },
  {
   "cell_type": "markdown",
   "metadata": {},
   "source": [
    "## `cat`: print the contents of a file to the command line\n",
    "\n",
    "`cat` 명령어를 이용하여 파일의 내용을 command-line에 바로 출력할 수 있습니다. "
   ]
  },
  {
   "cell_type": "code",
   "execution_count": null,
   "metadata": {},
   "outputs": [],
   "source": [
    "cat ../README_copy_renamed.txt"
   ]
  },
  {
   "cell_type": "markdown",
   "metadata": {},
   "source": [
    "## `head`/`tail`: print the `top` (or `bottom`) `n` lines of a file\n",
    "\n",
    "`head` 명령어는 파일의 시작부터 10번째 줄까지의 내용을 출력하며, `tail` 명령어는 파일 맨 마지막 10개의 줄을 출력합니다. `-n` flag를 이용하여 몇 개의 줄을 출력할지 설정할 수 있습니다. "
   ]
  },
  {
   "cell_type": "code",
   "execution_count": null,
   "metadata": {},
   "outputs": [],
   "source": [
    "head ../README_copy_renamed.txt"
   ]
  },
  {
   "cell_type": "code",
   "execution_count": null,
   "metadata": {},
   "outputs": [],
   "source": [
    "head -n2 ../README_copy_renamed.txt && tail -n5 ../README_copy_renamed.txt"
   ]
  },
  {
   "cell_type": "markdown",
   "metadata": {},
   "source": [
    "## `grep`: find lines matching a pattern\n",
    "`grep` 명령어는 해당하는 `string pattern`을 검색하는 명령어입니다. "
   ]
  },
  {
   "cell_type": "markdown",
   "metadata": {},
   "source": [
    "`grep` 명령어는 찾고자 하는 `string pattern`과 일치하는 내용을 파일에서 검색할 수도 있습니다. "
   ]
  },
  {
   "cell_type": "code",
   "execution_count": null,
   "metadata": {},
   "outputs": [],
   "source": [
    "cat ../README_copy_renamed.txt"
   ]
  },
  {
   "cell_type": "code",
   "execution_count": null,
   "metadata": {},
   "outputs": [],
   "source": [
    "grep \"kaldi\" ../README_copy_renamed.txt"
   ]
  },
  {
   "cell_type": "markdown",
   "metadata": {},
   "source": [
    "`-E` flag를 사용하여서 `grep`에서 `regular expression`을 이용한 검색을 할 수도 있습니다. "
   ]
  },
  {
   "cell_type": "code",
   "execution_count": null,
   "metadata": {},
   "outputs": [],
   "source": [
    "grep -E \"[0-9]+\" kaldi_config.json"
   ]
  },
  {
   "cell_type": "markdown",
   "metadata": {},
   "source": [
    "**Note**: `grep`을 이용해서 할 수 있는 일은 정말 많습니다. 설명한 것 외에도 `grep`으로 할 수 있는 다른 몇 가지 일들을 [이 곳](https://www.panix.com/~elflord/unix/grep.html)에서 확인할 수 있습니다. "
   ]
  },
  {
   "cell_type": "markdown",
   "metadata": {},
   "source": [
    "## `|`: piping commands\n",
    "\n",
    "두 개의 명령어 사이에 `|` (`shift + \\`)를 삽입하게 되면, 첫 번째 명령어의 결과를 두 번째 명령어의 입력으로 사용하게 됩니다. 그리고 두 번째 명령어의 결과를 출력합니다. \n",
    "\n",
    "**Note:** `kaldi`에서는 `pipe`가 정말 많이 사용됩니다. `kaldi`에서 사용된 스크립트를 열어보면 `|`를 빈번하게 볼 수 있습니다. "
   ]
  },
  {
   "cell_type": "code",
   "execution_count": null,
   "metadata": {},
   "outputs": [],
   "source": [
    "ls"
   ]
  },
  {
   "cell_type": "code",
   "execution_count": null,
   "metadata": {},
   "outputs": [],
   "source": [
    "ls | grep \"ipynb\""
   ]
  },
  {
   "cell_type": "code",
   "execution_count": null,
   "metadata": {},
   "outputs": [],
   "source": [
    "cat ../README_copy_renamed.txt | grep \"kaldi\""
   ]
  },
  {
   "cell_type": "markdown",
   "metadata": {},
   "source": [
    "## `variables`\n",
    "\n",
    "`shell`에서는 다음과 같은 방법으로 `variable` (변수)를 설정할 수 있습니다. \n",
    "\n",
    "```\n",
    "variable_name=\"string or number to capture\"\n",
    "```\n",
    "\n",
    "그리고 `${variable_name}`을 이용하여서 다시 불러올 수 있습니다. `echo` 명령어로 `variable`의 내용을 출력할 수 있습니다. "
   ]
  },
  {
   "cell_type": "code",
   "execution_count": null,
   "metadata": {},
   "outputs": [],
   "source": [
    "some_variable=\"I love cats.\"\n",
    "echo ${some_variable}        # many people think {} wrapped around variables is a useful convention for clarity"
   ]
  },
  {
   "cell_type": "markdown",
   "metadata": {},
   "source": [
    "## `for` loop\n",
    "\n",
    "\n",
    "`shell`에서 `for` 루프의 문법은 다음과 같습니다. \n",
    "\n",
    "```\n",
    "for [variable] in [list]; do\n",
    "    [some_command]\n",
    "done\n",
    "```"
   ]
  },
  {
   "cell_type": "code",
   "execution_count": null,
   "metadata": {},
   "outputs": [],
   "source": [
    "for letter in a b c; do\n",
    "    echo ${letter}        \n",
    "done"
   ]
  },
  {
   "cell_type": "markdown",
   "metadata": {},
   "source": [
    "## `if`/`then`"
   ]
  },
  {
   "cell_type": "markdown",
   "metadata": {},
   "source": [
    "`shell`에서 `if/then`의 문법은 다음과 같습니다. \n",
    "\n",
    "```\n",
    "if [ <condition> ]; then\n",
    "    some_command\n",
    "fi\n",
    "```\n",
    "\n",
    "\n",
    "\n",
    "`condition`에 따라서 `if/then`의 구조는 더욱 복잡해질 수 있습니다. [이 곳](https://ryanstutorials.net/bash-scripting-tutorial/bash-if-statements.php) 에서 `shell`에서 사용되는 `if`/`then` 구조의 예를 볼 수 있습니다."
   ]
  },
  {
   "cell_type": "code",
   "execution_count": null,
   "metadata": {},
   "outputs": [],
   "source": [
    "today=Tuesday\n",
    "if [ ${today} == \"Tuesday\" ]; then\n",
    "    echo \"At least it's not Monday\"\n",
    "fi"
   ]
  },
  {
   "cell_type": "markdown",
   "metadata": {},
   "source": [
    "`elif` 나 `else` 는 다음과 같이 추가할 수 있습니다."
   ]
  },
  {
   "cell_type": "code",
   "execution_count": null,
   "metadata": {},
   "outputs": [],
   "source": [
    "if [ ${today} == \"Monday\" ]; then\n",
    "    echo \"I hate Mondays\"\n",
    "elif [ ${today} == \"Friday\" ]; then\n",
    "    echo \"TGIF!  Woot!\"\n",
    "else\n",
    "    echo \"Can't wait for Friday\"\n",
    "fi"
   ]
  },
  {
   "cell_type": "markdown",
   "metadata": {},
   "source": [
    "## `chmod`: change permissions of file\n",
    "\n",
    "`linux` 체계에서는 파일 권한이 중요합니다. 파일에 실행권한이 제대로 주어져있지 않을 경우, 파일을 어떤 `interpreter`로 실행해야 하는지 명시해주어야 하므로, 조금 귀찮은 일이 생길 수 있습니다.\n",
    "\n",
    "그러한 경우 `chmod` 명령어를 이용하여서 파일의 권한을 변경할 수 있습니다. `chmod` 명령어는 매우 복잡합니다. (참조: http://endlessgeek.com/2014/02/chmod-explained-linux-file-permissions/) 하지만 이번 워크샵에서는 `shell` 스크립트 (`.sh`) 파일들에 실행권한이 있는지만 확인하면 됩니다. \n",
    "\n",
    "실행권한이 주어져있지 않을 경우, `chmod a+rwx [filename]` 의 명령어를 입력하여서 권한을 부여할 수 있습니다. "
   ]
  },
  {
   "cell_type": "code",
   "execution_count": null,
   "metadata": {},
   "outputs": [],
   "source": [
    "echo \"I love cats\" > sample_executable.sh   # make a quick script"
   ]
  },
  {
   "cell_type": "markdown",
   "metadata": {},
   "source": [
    "`ls -lah` 명령어를 사용해서 보면 `읽기 전용` 권한이 부여되어 있음을 확인할 수 있습니다. "
   ]
  },
  {
   "cell_type": "code",
   "execution_count": null,
   "metadata": {},
   "outputs": [],
   "source": [
    "ls -lah | grep sample_executable.sh"
   ]
  },
  {
   "cell_type": "markdown",
   "metadata": {},
   "source": [
    "`chmod a+rwx` 명령어를 사용하여 다른 권한을 부여할 수 있습니다. "
   ]
  },
  {
   "cell_type": "code",
   "execution_count": null,
   "metadata": {},
   "outputs": [],
   "source": [
    "chmod a+rwx sample_executable.sh && ls -lah | grep sample_executable.sh"
   ]
  },
  {
   "cell_type": "markdown",
   "metadata": {},
   "source": [
    "## `sudo`: become the super-user\n",
    "\n",
    "Windows의 `관리자권한`과 비슷합니다. 파일을 실행하였을 때 `permission denied`와 같은 에러 메시지가 나온다면, `sudo`를 이용하여 명령어를 실행하거나 파일을 실행하여야 합니다. `sudo`는 모든 명령어 맨 앞부분에 위치하게 되며, 사용자 권한을 확인하기 위해서 비밀번호를 입력하여야 할 수도 있습니다. `kaldi`에서는 `/root`에서 파일을 다루는 경우가 많아, `sudo`를 거의 매 번 사용하게 됩니다. \n",
    "\n",
    "`sudo`에 관한 자세한 내용은 [이 곳](http://aplawrence.com/Basics/sudo.html)에서 확인하실 수 있습니다. "
   ]
  }
 ],
 "metadata": {
  "kernelspec": {
   "display_name": "Bash",
   "language": "bash",
   "name": "bash"
  },
  "language_info": {
   "codemirror_mode": "shell",
   "file_extension": ".sh",
   "mimetype": "text/x-sh",
   "name": "bash"
  }
 },
 "nbformat": 4,
 "nbformat_minor": 2
}
